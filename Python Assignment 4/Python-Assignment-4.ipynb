{
 "cells": [
  {
   "cell_type": "markdown",
   "metadata": {},
   "source": [
    "# 1.1 Write a Python Program(with class concepts) to find the area of the triangle using the below formula.\n",
    "## area = (s*(s-a)*(s-b)*(s-c)) ** 0.5\n",
    "# Function to take the length of the sides of triangle from user should be defined in the parent class and function to calculate the area should be defined in subclass."
   ]
  },
  {
   "cell_type": "code",
   "execution_count": 1,
   "metadata": {},
   "outputs": [],
   "source": [
    "class Dimensions():\n",
    "    def __init__(self):\n",
    "        self.a=int(input(\"Enter the first side \")) # enter the first side\n",
    "        self.b=int(input(\"Enter the second side \")) # enter the second side\n",
    "        self.c=int(input(\"Enter the third side \")) # enter the third side\n",
    "        \n",
    "    def __str__(self):\n",
    "        return '{} {} {}'.format(self.a,self.b,self.c) # function to return the sides entered\n",
    "    \n",
    "\n",
    "class calc_area(Dimensions):\n",
    "    def __init__(self, *args):\n",
    "        super(calc_area, self).__init__(*args) \n",
    "        \n",
    "    def __str__(self):\n",
    "        s=int((self.a+self.b+self.c)/2)\n",
    "        return \"The area of the triange is {}\".format(int((s*(s-self.a)*(s-self.b)*(s-self.c))**0.5))\n",
    "    # the above function returns the area of the triangle\n",
    "        "
   ]
  },
  {
   "cell_type": "code",
   "execution_count": 2,
   "metadata": {},
   "outputs": [
    {
     "name": "stdout",
     "output_type": "stream",
     "text": [
      "Enter the first side 18\n",
      "Enter the second side 24\n",
      "Enter the third side 20\n",
      "The area of the triange is 176\n"
     ]
    }
   ],
   "source": [
    "print(calc_area())"
   ]
  },
  {
   "cell_type": "markdown",
   "metadata": {},
   "source": [
    "# 1.2 Write a function filter_long_words() that takes a list of words and an integer n and returns the list of words that are longer than n."
   ]
  },
  {
   "cell_type": "code",
   "execution_count": 3,
   "metadata": {},
   "outputs": [],
   "source": [
    "def filter_long_words(words,n): # function takes a list and a string\n",
    "    words_longer=[] # defined an empty list to store words longer than cut-off\n",
    "    for i in words: # starting the for loop\n",
    "        len_words=len(i)\n",
    "        if len_words > n:\n",
    "            words_longer.append(i) # appends the words which are greater than cut-off\n",
    "    return(words_longer)\n"
   ]
  },
  {
   "cell_type": "code",
   "execution_count": 4,
   "metadata": {},
   "outputs": [],
   "source": [
    "words=['Jerryl','Davis','Hamza','Rajesh','Shubham','Ayush','jestin']"
   ]
  },
  {
   "cell_type": "code",
   "execution_count": 5,
   "metadata": {},
   "outputs": [
    {
     "data": {
      "text/plain": [
       "['Shubham']"
      ]
     },
     "execution_count": 5,
     "metadata": {},
     "output_type": "execute_result"
    }
   ],
   "source": [
    "filter_long_words(words,6)"
   ]
  },
  {
   "cell_type": "markdown",
   "metadata": {},
   "source": [
    "# 2.1 Write a Python program using function concept that maps list of words into a list of integers representing the lengths of the corresponding words."
   ]
  },
  {
   "cell_type": "code",
   "execution_count": 6,
   "metadata": {},
   "outputs": [],
   "source": [
    "def words_to_integers(list_of_words): # function takes a list of words\n",
    "    words_to_number=[] # declaring an empty list to store lenght\n",
    "    for i in list_of_words: # declaring a for loop\n",
    "        word_len=len(i) # calculating length of words\n",
    "        words_to_number.append(word_len) # appending the length of words to list\n",
    "    return words_to_number\n",
    "        "
   ]
  },
  {
   "cell_type": "code",
   "execution_count": 7,
   "metadata": {},
   "outputs": [],
   "source": [
    "words=['Jerryl','Davis','Hamza','Rajesh','Shubham','Ayush','jestin']"
   ]
  },
  {
   "cell_type": "code",
   "execution_count": 8,
   "metadata": {},
   "outputs": [
    {
     "data": {
      "text/plain": [
       "[6, 5, 5, 6, 7, 5, 6]"
      ]
     },
     "execution_count": 8,
     "metadata": {},
     "output_type": "execute_result"
    }
   ],
   "source": [
    "words_to_integers(words)"
   ]
  },
  {
   "cell_type": "markdown",
   "metadata": {},
   "source": [
    "# 2.2 Write a Python function which takes a character (i.e. a string of length 1) and returns True if it is a vowel, False otherwise."
   ]
  },
  {
   "cell_type": "code",
   "execution_count": 9,
   "metadata": {},
   "outputs": [],
   "source": [
    "def check_vowel(character): # function take a character as input\n",
    "    vowels=['a','e','i','o','u'] # declaring the list of vowels\n",
    "    for i in vowels: # checking for vowel\n",
    "        if character==i:\n",
    "            return True # returns true if character is a vowel\n",
    "        else:\n",
    "            return False # returns false instead"
   ]
  },
  {
   "cell_type": "code",
   "execution_count": 10,
   "metadata": {},
   "outputs": [
    {
     "data": {
      "text/plain": [
       "False"
      ]
     },
     "execution_count": 10,
     "metadata": {},
     "output_type": "execute_result"
    }
   ],
   "source": [
    "check_vowel('b')"
   ]
  },
  {
   "cell_type": "code",
   "execution_count": null,
   "metadata": {},
   "outputs": [],
   "source": []
  }
 ],
 "metadata": {
  "kernelspec": {
   "display_name": "Python 3",
   "language": "python",
   "name": "python3"
  },
  "language_info": {
   "codemirror_mode": {
    "name": "ipython",
    "version": 3
   },
   "file_extension": ".py",
   "mimetype": "text/x-python",
   "name": "python",
   "nbconvert_exporter": "python",
   "pygments_lexer": "ipython3",
   "version": "3.7.3"
  }
 },
 "nbformat": 4,
 "nbformat_minor": 2
}
